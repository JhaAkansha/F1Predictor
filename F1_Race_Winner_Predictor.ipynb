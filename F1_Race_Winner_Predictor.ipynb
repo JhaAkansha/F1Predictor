{
  "nbformat": 4,
  "nbformat_minor": 0,
  "metadata": {
    "colab": {
      "provenance": [],
      "authorship_tag": "ABX9TyMmWG7lj6gETWHUBpwy6mMJ",
      "include_colab_link": true
    },
    "kernelspec": {
      "name": "python3",
      "display_name": "Python 3"
    },
    "language_info": {
      "name": "python"
    }
  },
  "cells": [
    {
      "cell_type": "markdown",
      "metadata": {
        "id": "view-in-github",
        "colab_type": "text"
      },
      "source": [
        "<a href=\"https://colab.research.google.com/github/JhaAkansha/F1Predictor/blob/main/F1_Race_Winner_Predictor.ipynb\" target=\"_parent\"><img src=\"https://colab.research.google.com/assets/colab-badge.svg\" alt=\"Open In Colab\"/></a>"
      ]
    },
    {
      "cell_type": "code",
      "execution_count": 29,
      "metadata": {
        "colab": {
          "base_uri": "https://localhost:8080/"
        },
        "id": "bsHrF9Pcv6JV",
        "outputId": "5db1c645-4d9b-48f8-f39c-1317894fc8e7"
      },
      "outputs": [
        {
          "output_type": "stream",
          "name": "stdout",
          "text": [
            "Mounted at /content/drive\n"
          ]
        }
      ],
      "source": [
        "#install poetry for python: https://github.com/elise-chin/poetry-and-colab/blob/main/Using_python_poetry_in_Google_Colab.ipynb\n",
        "from google.colab import drive\n",
        "drive.mount('/content/drive')"
      ]
    },
    {
      "cell_type": "code",
      "source": [
        "%cd /content/drive/MyDrive"
      ],
      "metadata": {
        "colab": {
          "base_uri": "https://localhost:8080/"
        },
        "id": "QqVKEPflxB83",
        "outputId": "ad2d2584-a208-455c-a2bc-ee6442e7595a"
      },
      "execution_count": 30,
      "outputs": [
        {
          "output_type": "stream",
          "name": "stdout",
          "text": [
            "/content/drive/MyDrive\n"
          ]
        }
      ]
    },
    {
      "cell_type": "code",
      "source": [
        "!rm -rf test-poetry\n",
        "!mkdir test-poetry\n",
        "%cd test-poetry"
      ],
      "metadata": {
        "colab": {
          "base_uri": "https://localhost:8080/"
        },
        "id": "jJTyWvrCxB2B",
        "outputId": "e510898c-71a2-4a1b-e40e-17d155357771"
      },
      "execution_count": 31,
      "outputs": [
        {
          "output_type": "stream",
          "name": "stdout",
          "text": [
            "/content/drive/MyDrive/test-poetry\n"
          ]
        }
      ]
    },
    {
      "cell_type": "code",
      "source": [
        "!pip install poetry"
      ],
      "metadata": {
        "colab": {
          "base_uri": "https://localhost:8080/",
          "height": 1000
        },
        "id": "bWwq_TRwxBv2",
        "outputId": "fe349b52-d929-4ff1-ee6e-2908b4eef3f0"
      },
      "execution_count": 32,
      "outputs": [
        {
          "output_type": "stream",
          "name": "stdout",
          "text": [
            "Collecting poetry\n",
            "  Downloading poetry-2.0.1-py3-none-any.whl.metadata (7.0 kB)\n",
            "Collecting build<2.0.0,>=1.2.1 (from poetry)\n",
            "  Downloading build-1.2.2.post1-py3-none-any.whl.metadata (6.5 kB)\n",
            "Requirement already satisfied: cachecontrol<0.15.0,>=0.14.0 in /usr/local/lib/python3.10/dist-packages (from cachecontrol[filecache]<0.15.0,>=0.14.0->poetry) (0.14.1)\n",
            "Collecting cleo<3.0.0,>=2.1.0 (from poetry)\n",
            "  Downloading cleo-2.1.0-py3-none-any.whl.metadata (12 kB)\n",
            "Collecting dulwich<0.23.0,>=0.22.6 (from poetry)\n",
            "  Downloading dulwich-0.22.7-cp310-cp310-manylinux_2_17_x86_64.manylinux2014_x86_64.whl.metadata (4.4 kB)\n",
            "Requirement already satisfied: fastjsonschema<3.0.0,>=2.18.0 in /usr/local/lib/python3.10/dist-packages (from poetry) (2.21.1)\n",
            "Collecting installer<0.8.0,>=0.7.0 (from poetry)\n",
            "  Downloading installer-0.7.0-py3-none-any.whl.metadata (936 bytes)\n",
            "Collecting keyring<26.0.0,>=25.1.0 (from poetry)\n",
            "  Downloading keyring-25.6.0-py3-none-any.whl.metadata (20 kB)\n",
            "Requirement already satisfied: packaging>=24.0 in /usr/local/lib/python3.10/dist-packages (from poetry) (24.2)\n",
            "Collecting pkginfo<2.0,>=1.12 (from poetry)\n",
            "  Downloading pkginfo-1.12.0-py3-none-any.whl.metadata (12 kB)\n",
            "Requirement already satisfied: platformdirs<5,>=3.0.0 in /usr/local/lib/python3.10/dist-packages (from poetry) (4.3.6)\n",
            "Collecting poetry-core==2.0.1 (from poetry)\n",
            "  Downloading poetry_core-2.0.1-py3-none-any.whl.metadata (3.5 kB)\n",
            "Collecting pyproject-hooks<2.0.0,>=1.0.0 (from poetry)\n",
            "  Downloading pyproject_hooks-1.2.0-py3-none-any.whl.metadata (1.3 kB)\n",
            "Requirement already satisfied: requests<3.0,>=2.26 in /usr/local/lib/python3.10/dist-packages (from poetry) (2.32.3)\n",
            "Requirement already satisfied: requests-toolbelt<2.0.0,>=1.0.0 in /usr/local/lib/python3.10/dist-packages (from poetry) (1.0.0)\n",
            "Requirement already satisfied: shellingham<2.0,>=1.5 in /usr/local/lib/python3.10/dist-packages (from poetry) (1.5.4)\n",
            "Requirement already satisfied: tomli<3.0.0,>=2.0.1 in /usr/local/lib/python3.10/dist-packages (from poetry) (2.2.1)\n",
            "Collecting tomlkit<1.0.0,>=0.11.4 (from poetry)\n",
            "  Downloading tomlkit-0.13.2-py3-none-any.whl.metadata (2.7 kB)\n",
            "Collecting trove-classifiers>=2022.5.19 (from poetry)\n",
            "  Downloading trove_classifiers-2025.1.10.15-py3-none-any.whl.metadata (2.3 kB)\n",
            "Collecting virtualenv<21.0.0,>=20.26.6 (from poetry)\n",
            "  Downloading virtualenv-20.28.1-py3-none-any.whl.metadata (4.5 kB)\n",
            "Requirement already satisfied: msgpack<2.0.0,>=0.5.2 in /usr/local/lib/python3.10/dist-packages (from cachecontrol<0.15.0,>=0.14.0->cachecontrol[filecache]<0.15.0,>=0.14.0->poetry) (1.1.0)\n",
            "Requirement already satisfied: filelock>=3.8.0 in /usr/local/lib/python3.10/dist-packages (from cachecontrol[filecache]<0.15.0,>=0.14.0->poetry) (3.16.1)\n",
            "Collecting crashtest<0.5.0,>=0.4.1 (from cleo<3.0.0,>=2.1.0->poetry)\n",
            "  Downloading crashtest-0.4.1-py3-none-any.whl.metadata (1.1 kB)\n",
            "Collecting rapidfuzz<4.0.0,>=3.0.0 (from cleo<3.0.0,>=2.1.0->poetry)\n",
            "  Downloading rapidfuzz-3.11.0-cp310-cp310-manylinux_2_17_x86_64.manylinux2014_x86_64.whl.metadata (11 kB)\n",
            "Requirement already satisfied: urllib3>=1.25 in /usr/local/lib/python3.10/dist-packages (from dulwich<0.23.0,>=0.22.6->poetry) (2.2.3)\n",
            "Requirement already satisfied: SecretStorage>=3.2 in /usr/lib/python3/dist-packages (from keyring<26.0.0,>=25.1.0->poetry) (3.3.1)\n",
            "Requirement already satisfied: jeepney>=0.4.2 in /usr/lib/python3/dist-packages (from keyring<26.0.0,>=25.1.0->poetry) (0.7.1)\n",
            "Requirement already satisfied: importlib_metadata>=4.11.4 in /usr/local/lib/python3.10/dist-packages (from keyring<26.0.0,>=25.1.0->poetry) (8.5.0)\n",
            "Collecting jaraco.classes (from keyring<26.0.0,>=25.1.0->poetry)\n",
            "  Downloading jaraco.classes-3.4.0-py3-none-any.whl.metadata (2.6 kB)\n",
            "Collecting jaraco.functools (from keyring<26.0.0,>=25.1.0->poetry)\n",
            "  Downloading jaraco.functools-4.1.0-py3-none-any.whl.metadata (2.9 kB)\n",
            "Collecting jaraco.context (from keyring<26.0.0,>=25.1.0->poetry)\n",
            "  Downloading jaraco.context-6.0.1-py3-none-any.whl.metadata (4.1 kB)\n",
            "Requirement already satisfied: charset-normalizer<4,>=2 in /usr/local/lib/python3.10/dist-packages (from requests<3.0,>=2.26->poetry) (3.4.0)\n",
            "Requirement already satisfied: idna<4,>=2.5 in /usr/local/lib/python3.10/dist-packages (from requests<3.0,>=2.26->poetry) (3.10)\n",
            "Requirement already satisfied: certifi>=2017.4.17 in /usr/local/lib/python3.10/dist-packages (from requests<3.0,>=2.26->poetry) (2024.12.14)\n",
            "Collecting distlib<1,>=0.3.7 (from virtualenv<21.0.0,>=20.26.6->poetry)\n",
            "  Downloading distlib-0.3.9-py2.py3-none-any.whl.metadata (5.2 kB)\n",
            "Requirement already satisfied: zipp>=3.20 in /usr/local/lib/python3.10/dist-packages (from importlib_metadata>=4.11.4->keyring<26.0.0,>=25.1.0->poetry) (3.21.0)\n",
            "Requirement already satisfied: more-itertools in /usr/local/lib/python3.10/dist-packages (from jaraco.classes->keyring<26.0.0,>=25.1.0->poetry) (10.5.0)\n",
            "Collecting backports.tarfile (from jaraco.context->keyring<26.0.0,>=25.1.0->poetry)\n",
            "  Downloading backports.tarfile-1.2.0-py3-none-any.whl.metadata (2.0 kB)\n",
            "Downloading poetry-2.0.1-py3-none-any.whl (254 kB)\n",
            "\u001b[2K   \u001b[90m━━━━━━━━━━━━━━━━━━━━━━━━━━━━━━━━━━━━━━━━\u001b[0m \u001b[32m254.4/254.4 kB\u001b[0m \u001b[31m6.7 MB/s\u001b[0m eta \u001b[36m0:00:00\u001b[0m\n",
            "\u001b[?25hDownloading poetry_core-2.0.1-py3-none-any.whl (544 kB)\n",
            "\u001b[2K   \u001b[90m━━━━━━━━━━━━━━━━━━━━━━━━━━━━━━━━━━━━━━━━\u001b[0m \u001b[32m544.8/544.8 kB\u001b[0m \u001b[31m26.4 MB/s\u001b[0m eta \u001b[36m0:00:00\u001b[0m\n",
            "\u001b[?25hDownloading build-1.2.2.post1-py3-none-any.whl (22 kB)\n",
            "Downloading cleo-2.1.0-py3-none-any.whl (78 kB)\n",
            "\u001b[2K   \u001b[90m━━━━━━━━━━━━━━━━━━━━━━━━━━━━━━━━━━━━━━━━\u001b[0m \u001b[32m78.7/78.7 kB\u001b[0m \u001b[31m5.1 MB/s\u001b[0m eta \u001b[36m0:00:00\u001b[0m\n",
            "\u001b[?25hDownloading dulwich-0.22.7-cp310-cp310-manylinux_2_17_x86_64.manylinux2014_x86_64.whl (980 kB)\n",
            "\u001b[2K   \u001b[90m━━━━━━━━━━━━━━━━━━━━━━━━━━━━━━━━━━━━━━━━\u001b[0m \u001b[32m980.3/980.3 kB\u001b[0m \u001b[31m43.4 MB/s\u001b[0m eta \u001b[36m0:00:00\u001b[0m\n",
            "\u001b[?25hDownloading installer-0.7.0-py3-none-any.whl (453 kB)\n",
            "\u001b[2K   \u001b[90m━━━━━━━━━━━━━━━━━━━━━━━━━━━━━━━━━━━━━━━━\u001b[0m \u001b[32m453.8/453.8 kB\u001b[0m \u001b[31m22.3 MB/s\u001b[0m eta \u001b[36m0:00:00\u001b[0m\n",
            "\u001b[?25hDownloading keyring-25.6.0-py3-none-any.whl (39 kB)\n",
            "Downloading pkginfo-1.12.0-py3-none-any.whl (32 kB)\n",
            "Downloading pyproject_hooks-1.2.0-py3-none-any.whl (10 kB)\n",
            "Downloading tomlkit-0.13.2-py3-none-any.whl (37 kB)\n",
            "Downloading trove_classifiers-2025.1.10.15-py3-none-any.whl (13 kB)\n",
            "Downloading virtualenv-20.28.1-py3-none-any.whl (4.3 MB)\n",
            "\u001b[2K   \u001b[90m━━━━━━━━━━━━━━━━━━━━━━━━━━━━━━━━━━━━━━━━\u001b[0m \u001b[32m4.3/4.3 MB\u001b[0m \u001b[31m40.3 MB/s\u001b[0m eta \u001b[36m0:00:00\u001b[0m\n",
            "\u001b[?25hDownloading crashtest-0.4.1-py3-none-any.whl (7.6 kB)\n",
            "Downloading distlib-0.3.9-py2.py3-none-any.whl (468 kB)\n",
            "\u001b[2K   \u001b[90m━━━━━━━━━━━━━━━━━━━━━━━━━━━━━━━━━━━━━━━━\u001b[0m \u001b[32m469.0/469.0 kB\u001b[0m \u001b[31m19.4 MB/s\u001b[0m eta \u001b[36m0:00:00\u001b[0m\n",
            "\u001b[?25hDownloading rapidfuzz-3.11.0-cp310-cp310-manylinux_2_17_x86_64.manylinux2014_x86_64.whl (3.1 MB)\n",
            "\u001b[2K   \u001b[90m━━━━━━━━━━━━━━━━━━━━━━━━━━━━━━━━━━━━━━━━\u001b[0m \u001b[32m3.1/3.1 MB\u001b[0m \u001b[31m42.5 MB/s\u001b[0m eta \u001b[36m0:00:00\u001b[0m\n",
            "\u001b[?25hDownloading jaraco.classes-3.4.0-py3-none-any.whl (6.8 kB)\n",
            "Downloading jaraco.context-6.0.1-py3-none-any.whl (6.8 kB)\n",
            "Downloading jaraco.functools-4.1.0-py3-none-any.whl (10 kB)\n",
            "Downloading backports.tarfile-1.2.0-py3-none-any.whl (30 kB)\n",
            "Installing collected packages: trove-classifiers, distlib, virtualenv, tomlkit, rapidfuzz, pyproject-hooks, poetry-core, pkginfo, jaraco.functools, jaraco.classes, installer, dulwich, crashtest, backports.tarfile, jaraco.context, cleo, build, keyring, poetry\n",
            "  Attempting uninstall: keyring\n",
            "    Found existing installation: keyring 23.5.0\n",
            "    Uninstalling keyring-23.5.0:\n",
            "      Successfully uninstalled keyring-23.5.0\n",
            "Successfully installed backports.tarfile-1.2.0 build-1.2.2.post1 cleo-2.1.0 crashtest-0.4.1 distlib-0.3.9 dulwich-0.22.7 installer-0.7.0 jaraco.classes-3.4.0 jaraco.context-6.0.1 jaraco.functools-4.1.0 keyring-25.6.0 pkginfo-1.12.0 poetry-2.0.1 poetry-core-2.0.1 pyproject-hooks-1.2.0 rapidfuzz-3.11.0 tomlkit-0.13.2 trove-classifiers-2025.1.10.15 virtualenv-20.28.1\n"
          ]
        },
        {
          "output_type": "display_data",
          "data": {
            "application/vnd.colab-display-data+json": {
              "pip_warning": {
                "packages": [
                  "backports",
                  "jaraco"
                ]
              },
              "id": "1d3669588ce14336b6fe746d1a0649eb"
            }
          },
          "metadata": {}
        }
      ]
    },
    {
      "cell_type": "code",
      "source": [
        "# Configure poetry to create virtual environments in the project folder\n",
        "!poetry config virtualenvs.in-project true"
      ],
      "metadata": {
        "id": "1H75Ei4FxBXd"
      },
      "execution_count": 33,
      "outputs": []
    },
    {
      "cell_type": "code",
      "source": [
        "# Create the pyproject.toml file\n",
        "!poetry init"
      ],
      "metadata": {
        "colab": {
          "base_uri": "https://localhost:8080/"
        },
        "id": "Xw6ggWc4xBRt",
        "outputId": "b37b245d-34e9-4119-8b4a-adf14d629b24"
      },
      "execution_count": 34,
      "outputs": [
        {
          "output_type": "stream",
          "name": "stdout",
          "text": [
            "\n",
            "This command will guide you through creating your \u001b[34mpyproject.toml\u001b[39m config.\n",
            "\n",
            "\u001b[36mPackage name [\u001b[39m\u001b[32mtest-poetry\u001b[39m\u001b[36m]: \u001b[39m "
          ]
        }
      ]
    },
    {
      "cell_type": "code",
      "source": [
        "#To add new package run poetry add <package>"
      ],
      "metadata": {
        "id": "Eqis-KXkxBLV"
      },
      "execution_count": 35,
      "outputs": []
    },
    {
      "cell_type": "code",
      "source": [
        "import requests"
      ],
      "metadata": {
        "id": "zkzSe_557XYx"
      },
      "execution_count": 36,
      "outputs": []
    },
    {
      "cell_type": "code",
      "source": [
        "def getData(base_url: str):\n",
        "  limit = 100\n",
        "  offset = 0\n",
        "  getTotal = requests.get(f'{base_url}?limit=1&offset=0').json()\n",
        "  total = getTotal['MRData']['total']\n",
        "  all_data = []\n",
        "  while (offset <= int(total)):\n",
        "    url = f'{base_url}?limit={limit}&offset={offset}'\n",
        "    response = requests.get(url).json()\n",
        "    race_data = response['MRData'].get('RaceTable', {})\n",
        "    all_data.extend(race_data.get('Races', []))\n",
        "    offset += limit\n",
        "  return all_data"
      ],
      "metadata": {
        "id": "H-DfMNrbcJD6"
      },
      "execution_count": 37,
      "outputs": []
    },
    {
      "cell_type": "code",
      "source": [
        "def driver_standings_season(season: str):\n",
        "  base_url = f'https://api.jolpi.ca/ergast/f1/{season}/driverstandings/'\n",
        "  return getData(base_url)"
      ],
      "metadata": {
        "id": "8vWuEMkTxBGo"
      },
      "execution_count": 38,
      "outputs": []
    },
    {
      "cell_type": "code",
      "source": [
        "def drivers_with_fastest_lap():\n",
        "  base_url = f'https://api.jolpi.ca/ergast/f1/fastest/1/drivers/'\n",
        "  return getData(base_url)"
      ],
      "metadata": {
        "id": "igQeVXStxBBG"
      },
      "execution_count": 39,
      "outputs": []
    },
    {
      "cell_type": "code",
      "source": [
        "def drivers_with_pole_position():\n",
        "  base_url = f'https://api.jolpi.ca/ergast/f1/grid/1/drivers/'\n",
        "  return getData(base_url)"
      ],
      "metadata": {
        "id": "cg3tdPH79fE9"
      },
      "execution_count": 40,
      "outputs": []
    },
    {
      "cell_type": "code",
      "source": [
        "def drivers_winners():\n",
        "  base_url = f'https://api.jolpi.ca/ergast/f1/results/1/drivers/'\n",
        "  return getData(base_url)"
      ],
      "metadata": {
        "id": "_vJm2cIr9eui"
      },
      "execution_count": 41,
      "outputs": []
    },
    {
      "cell_type": "code",
      "source": [
        "def driver_standings_after_nth_round(season: str, round: str):\n",
        "  base_url = f'https://api.jolpi.ca/ergast/f1/{season}/{round}/driverstandings/'\n",
        "  return getData(base_url)"
      ],
      "metadata": {
        "id": "PsByc0ka9eh3"
      },
      "execution_count": 42,
      "outputs": []
    },
    {
      "cell_type": "code",
      "source": [
        "def driver_champion(season: str):\n",
        "  base_url = f'https://api.jolpi.ca/ergast/f1/{season}/driverstandings/1/'\n",
        "  return getData(base_url)"
      ],
      "metadata": {
        "id": "5NOR62Rv9irM"
      },
      "execution_count": 43,
      "outputs": []
    },
    {
      "cell_type": "code",
      "source": [
        "print(driver_standings_after_nth_round(2024, 5))"
      ],
      "metadata": {
        "colab": {
          "base_uri": "https://localhost:8080/"
        },
        "id": "HuQ6ZfDZwrXq",
        "outputId": "0f77d08b-30ff-4645-b79a-0931be6583e3"
      },
      "execution_count": 44,
      "outputs": [
        {
          "output_type": "stream",
          "name": "stdout",
          "text": [
            "[]\n"
          ]
        }
      ]
    },
    {
      "cell_type": "code",
      "source": [
        "print(driver_champion(1997))"
      ],
      "metadata": {
        "colab": {
          "base_uri": "https://localhost:8080/"
        },
        "id": "Xg9dke-U9eLO",
        "outputId": "890230e1-19a7-496b-f052-1cf54f8e7166"
      },
      "execution_count": 45,
      "outputs": [
        {
          "output_type": "stream",
          "name": "stdout",
          "text": [
            "[]\n"
          ]
        }
      ]
    },
    {
      "cell_type": "code",
      "source": [
        "def pitstops_season(season: str, round: str):\n",
        "  base_url = f'https://api.jolpi.ca/ergast/f1/{season}/{round}/pitstops'\n",
        "  return getData(base_url)\n",
        "pitstops_season(2023, 13)"
      ],
      "metadata": {
        "id": "K8R2v6zW9d7O",
        "collapsed": true
      },
      "execution_count": null,
      "outputs": []
    },
    {
      "cell_type": "code",
      "source": [
        "def pitstops_season_round_driver(season: str, round: str, driver: str):\n",
        "  base_url = f'https://api.jolpi.ca/ergast/f1/{season}/{round}/drivers/{driver}/pitstops'\n",
        "  return getData(base_url)"
      ],
      "metadata": {
        "id": "qpbzOc87BHuu"
      },
      "execution_count": null,
      "outputs": []
    },
    {
      "cell_type": "code",
      "source": [
        "def races_in_a_season(season: str):\n",
        "  base_url = f'https://api.jolpi.ca/ergast/f1/{season}/races/'\n",
        "  return getData(base_url)"
      ],
      "metadata": {
        "id": "sObmSt7lBHfE"
      },
      "execution_count": null,
      "outputs": []
    },
    {
      "cell_type": "code",
      "source": [
        "def roundwise_result(season: str, round: str):\n",
        "  base_url = f'https://api.jolpi.ca/ergast/f1/{season}/{round}/results'\n",
        "  return getData(base_url)"
      ],
      "metadata": {
        "id": "6QJMO4RhBHQi"
      },
      "execution_count": null,
      "outputs": []
    },
    {
      "cell_type": "code",
      "source": [
        "roundwise_result(2024, 5)"
      ],
      "metadata": {
        "id": "jW2-S50PBGvW",
        "collapsed": true
      },
      "execution_count": null,
      "outputs": []
    },
    {
      "cell_type": "code",
      "source": [
        "def pole_sitter_race_finish():\n",
        "  base_url = f'https://api.jolpi.ca/ergast/f1/2024/grid/1/results/'\n",
        "  return getData(base_url)"
      ],
      "metadata": {
        "id": "Eq4ZEil3vMHm"
      },
      "execution_count": null,
      "outputs": []
    },
    {
      "cell_type": "code",
      "source": [
        "import pandas as pd"
      ],
      "metadata": {
        "id": "fXv3IYGfwMjo"
      },
      "execution_count": null,
      "outputs": []
    },
    {
      "cell_type": "code",
      "source": [
        "def lap_info_per_round(season: str, round: str):\n",
        "  base_url = f'https://api.jolpi.ca/ergast/f1/{season}/{round}/laps.json'\n",
        "  return getData(base_url)"
      ],
      "metadata": {
        "id": "SqyQIK3M9iax"
      },
      "execution_count": null,
      "outputs": []
    },
    {
      "cell_type": "code",
      "source": [
        "print(lap_info_per_round(2024, 8))"
      ],
      "metadata": {
        "id": "47lrkDO-9eWq"
      },
      "execution_count": null,
      "outputs": []
    },
    {
      "cell_type": "code",
      "source": [
        "print(lap_info_per_round(2024, 24))"
      ],
      "metadata": {
        "id": "hb0lYRZ5Pa3O"
      },
      "execution_count": null,
      "outputs": []
    },
    {
      "cell_type": "code",
      "source": [
        "rounds = 24\n",
        "\n",
        "lap_info = pd.DataFrame()\n",
        "\n",
        "for i in range (1, rounds+1):\n",
        "  race = lap_info_per_round(2024, i)\n",
        "  print(race)\n",
        "  standings = race['RaceTable']['Races'][0]['Laps']\n",
        "  current_round = {'round': i}\n",
        "  for j in range(len(standings)):\n",
        "    driver = standings[j]\n",
        "    # ['Timings']['driverId']\n",
        "# lap_info = pd.melt(driver.reset_index(),['round'])"
      ],
      "metadata": {
        "id": "Qp9nGMMcBGhx",
        "collapsed": true
      },
      "execution_count": null,
      "outputs": []
    }
  ]
}